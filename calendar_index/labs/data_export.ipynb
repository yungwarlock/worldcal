{
 "cells": [
  {
   "cell_type": "code",
   "execution_count": 16,
   "metadata": {},
   "outputs": [
    {
     "name": "stdout",
     "output_type": "stream",
     "text": [
      "\u001b[33mWARNING: You are using pip version 22.0.4; however, version 24.0 is available.\n",
      "You should consider upgrading via the '/data/venv/bin/python -m pip install --upgrade pip' command.\u001b[0m\u001b[33m\n",
      "\u001b[0mNote: you may need to restart the kernel to use updated packages.\n"
     ]
    },
    {
     "data": {
      "text/html": [
       "<span style=\"None\">Closing duckdb</span>"
      ],
      "text/plain": [
       "Closing duckdb"
      ]
     },
     "metadata": {},
     "output_type": "display_data"
    }
   ],
   "source": [
    "%pip install -qU duckdb psycopg2 jupysql pandas matplotlib duckdb-engine pandas-gbq"
   ]
  },
  {
   "cell_type": "code",
   "execution_count": 1,
   "metadata": {},
   "outputs": [
    {
     "data": {
      "text/html": [
       "<span style=\"None\">The &#x27;toml&#x27; package isn&#x27;t installed. To load settings from pyproject.toml or ~/.jupysql/config, install with: pip install toml</span>"
      ],
      "text/plain": [
       "The 'toml' package isn't installed. To load settings from pyproject.toml or ~/.jupysql/config, install with: pip install toml"
      ]
     },
     "metadata": {},
     "output_type": "display_data"
    }
   ],
   "source": [
    "import duckdb\n",
    "\n",
    "%load_ext sql\n",
    "conn = duckdb.connect()\n",
    "%sql conn --alias duckdb"
   ]
  },
  {
   "cell_type": "code",
   "execution_count": 2,
   "metadata": {},
   "outputs": [
    {
     "data": {
      "text/html": [
       "<span style=\"None\">Running query in &#x27;duckdb&#x27;</span>"
      ],
      "text/plain": [
       "Running query in 'duckdb'"
      ]
     },
     "metadata": {},
     "output_type": "display_data"
    },
    {
     "data": {
      "text/html": [
       "<span style=\"None\">Running query in &#x27;duckdb&#x27;</span>"
      ],
      "text/plain": [
       "Running query in 'duckdb'"
      ]
     },
     "metadata": {},
     "output_type": "display_data"
    },
    {
     "data": {
      "text/html": [
       "<table>\n",
       "    <thead>\n",
       "        <tr>\n",
       "            <th>Success</th>\n",
       "        </tr>\n",
       "    </thead>\n",
       "    <tbody>\n",
       "    </tbody>\n",
       "</table>"
      ],
      "text/plain": [
       "+---------+\n",
       "| Success |\n",
       "+---------+\n",
       "+---------+"
      ]
     },
     "execution_count": 2,
     "metadata": {},
     "output_type": "execute_result"
    }
   ],
   "source": [
    "%sql INSTALL postgres\n",
    "%sql LOAD postgres"
   ]
  },
  {
   "cell_type": "code",
   "execution_count": 3,
   "metadata": {},
   "outputs": [
    {
     "data": {
      "text/html": [
       "<span style=\"None\">Running query in &#x27;duckdb&#x27;</span>"
      ],
      "text/plain": [
       "Running query in 'duckdb'"
      ]
     },
     "metadata": {},
     "output_type": "display_data"
    },
    {
     "data": {
      "text/html": [
       "<span style=\"None\">Running query in &#x27;duckdb&#x27;</span>"
      ],
      "text/plain": [
       "Running query in 'duckdb'"
      ]
     },
     "metadata": {},
     "output_type": "display_data"
    },
    {
     "data": {
      "text/html": [
       "<table>\n",
       "    <thead>\n",
       "        <tr>\n",
       "            <th>Success</th>\n",
       "        </tr>\n",
       "    </thead>\n",
       "    <tbody>\n",
       "    </tbody>\n",
       "</table>"
      ],
      "text/plain": [
       "+---------+\n",
       "| Success |\n",
       "+---------+\n",
       "+---------+"
      ]
     },
     "execution_count": 3,
     "metadata": {},
     "output_type": "execute_result"
    }
   ],
   "source": [
    "# -- attach the Postgres database using the given connection string\n",
    "%sql ATTACH 'host=localhost port=5432 dbname=worldcal user=worldcal_sa password=worldcalsa' AS production (TYPE postgres);\n",
    "%sql USE production;"
   ]
  },
  {
   "cell_type": "code",
   "execution_count": 4,
   "metadata": {},
   "outputs": [
    {
     "data": {
      "text/html": [
       "<span style=\"None\">Running query in &#x27;duckdb&#x27;</span>"
      ],
      "text/plain": [
       "Running query in 'duckdb'"
      ]
     },
     "metadata": {},
     "output_type": "display_data"
    },
    {
     "data": {
      "text/html": [
       "<table>\n",
       "    <thead>\n",
       "        <tr>\n",
       "            <th>id</th>\n",
       "            <th>title</th>\n",
       "            <th>summary</th>\n",
       "            <th>url_id</th>\n",
       "            <th>context</th>\n",
       "            <th>day</th>\n",
       "            <th>month</th>\n",
       "            <th>year</th>\n",
       "            <th>date_added</th>\n",
       "        </tr>\n",
       "    </thead>\n",
       "    <tbody>\n",
       "        <tr>\n",
       "            <td>1</td>\n",
       "            <td>Start of the SpaceX fairing recovery program</td>\n",
       "            <td>SpaceX began an experimental program to determine if it might be possible to economically recover and reuse expended launch vehicle payload fairings from suborbital space.</td>\n",
       "            <td>49</td>\n",
       "            <td>{}</td>\n",
       "            <td>0</td>\n",
       "            <td>0</td>\n",
       "            <td>2017</td>\n",
       "            <td>2024-04-20 19:36:33.932204</td>\n",
       "        </tr>\n",
       "        <tr>\n",
       "            <td>2</td>\n",
       "            <td>SpaceX begins routinely recovering fairings from many flights</td>\n",
       "            <td>The experimental program became an operational program as, by late 2020, the company was routinely recovering fairings from many flights.</td>\n",
       "            <td>49</td>\n",
       "            <td>{}</td>\n",
       "            <td>0</td>\n",
       "            <td>0</td>\n",
       "            <td>2020</td>\n",
       "            <td>2024-04-20 19:36:33.932204</td>\n",
       "        </tr>\n",
       "        <tr>\n",
       "            <td>3</td>\n",
       "            <td>SpaceX successfully refurbishes and reflies previously flown fairings on the majority of their satellite launches</td>\n",
       "            <td>By 2021, SpaceX were successfully refurbishing and reflying previously flown fairings on the majority of their satellite launches.</td>\n",
       "            <td>49</td>\n",
       "            <td>{}</td>\n",
       "            <td>0</td>\n",
       "            <td>0</td>\n",
       "            <td>2021</td>\n",
       "            <td>2024-04-20 19:36:33.932204</td>\n",
       "        </tr>\n",
       "        <tr>\n",
       "            <td>4</td>\n",
       "            <td>SpaceX begins chartering Ms. Tree and Ms. Chief</td>\n",
       "            <td>SpaceX chartered two former platform supply vessels, Ms. Tree and Ms. Chief, to use as experimental platforms for recovery of rocket fairings from Falcon 9 orbital launch trajectories.</td>\n",
       "            <td>49</td>\n",
       "            <td>{}</td>\n",
       "            <td>0</td>\n",
       "            <td>0</td>\n",
       "            <td>2018</td>\n",
       "            <td>2024-04-20 19:36:38.731961</td>\n",
       "        </tr>\n",
       "        <tr>\n",
       "            <td>5</td>\n",
       "            <td>Ms. Tree successfully catches a fairing</td>\n",
       "            <td>Ms. Tree, while still named Mr. Steven, successfully caught a fairing during Falcon Heavy launch 3. This was the first successful fairing catch by SpaceX.</td>\n",
       "            <td>49</td>\n",
       "            <td>{}</td>\n",
       "            <td>25</td>\n",
       "            <td>5</td>\n",
       "            <td>2019</td>\n",
       "            <td>2024-04-20 19:36:38.731961</td>\n",
       "        </tr>\n",
       "        <tr>\n",
       "            <td>6</td>\n",
       "            <td>Fairing recovery experiments</td>\n",
       "            <td>SpaceX conducted fairing recovery experiments on a number of occasions in 2018 and early 2019.</td>\n",
       "            <td>49</td>\n",
       "            <td>{}</td>\n",
       "            <td>0</td>\n",
       "            <td>0</td>\n",
       "            <td>2018</td>\n",
       "            <td>2024-04-20 19:36:46.600274</td>\n",
       "        </tr>\n",
       "        <tr>\n",
       "            <td>7</td>\n",
       "            <td>First successful fairing catch</td>\n",
       "            <td>Ms. Tree successfully caught a fairing during Falcon Heavy launch 3, which carried the DoD's STP-2 mission. This was the ship's first fairing recovery voyage after its renaming, change of ownership, and net upgrade.</td>\n",
       "            <td>49</td>\n",
       "            <td>{}</td>\n",
       "            <td>25</td>\n",
       "            <td>6</td>\n",
       "            <td>2019</td>\n",
       "            <td>2024-04-20 19:36:46.600274</td>\n",
       "        </tr>\n",
       "        <tr>\n",
       "            <td>8</td>\n",
       "            <td>Operational status reached</td>\n",
       "            <td>The fairing recovery program reached operational status where fairings from most Falcon 9 satellite launches were recovered, either 'in the net' or from the water.</td>\n",
       "            <td>49</td>\n",
       "            <td>{}</td>\n",
       "            <td>0</td>\n",
       "            <td>0</td>\n",
       "            <td>2020</td>\n",
       "            <td>2024-04-20 19:36:46.600274</td>\n",
       "        </tr>\n",
       "        <tr>\n",
       "            <td>9</td>\n",
       "            <td>Final fairing caught in a net</td>\n",
       "            <td>The final fairing that was successfully caught in a net was in October 2020.</td>\n",
       "            <td>49</td>\n",
       "            <td>{}</td>\n",
       "            <td>0</td>\n",
       "            <td>10</td>\n",
       "            <td>2020</td>\n",
       "            <td>2024-04-20 19:36:46.600274</td>\n",
       "        </tr>\n",
       "        <tr>\n",
       "            <td>10</td>\n",
       "            <td>Nets removed from fast ships</td>\n",
       "            <td>In early 2021, the nets were removed from the two fast ships and SpaceX ended the ship leases, with both ships returned to their owner.</td>\n",
       "            <td>49</td>\n",
       "            <td>{}</td>\n",
       "            <td>0</td>\n",
       "            <td>0</td>\n",
       "            <td>2021</td>\n",
       "            <td>2024-04-20 19:36:46.600274</td>\n",
       "        </tr>\n",
       "    </tbody>\n",
       "</table>\n",
       "<span style=\"font-style:italic;text-align:center;\">Truncated to <a href=\"https://jupysql.ploomber.io/en/latest/api/configuration.html#displaylimit\">displaylimit</a> of 10.</span>"
      ],
      "text/plain": [
       "+----+-------------------------------------------------------------------------------------------------------------------+-------------------------------------------------------------------------------------------------------------------------------------------------------------------------------------------------------------------------+--------+---------+-----+-------+------+----------------------------+\n",
       "| id |                                                       title                                                       |                                                                                                         summary                                                                                                         | url_id | context | day | month | year |         date_added         |\n",
       "+----+-------------------------------------------------------------------------------------------------------------------+-------------------------------------------------------------------------------------------------------------------------------------------------------------------------------------------------------------------------+--------+---------+-----+-------+------+----------------------------+\n",
       "| 1  |                                    Start of the SpaceX fairing recovery program                                   |                       SpaceX began an experimental program to determine if it might be possible to economically recover and reuse expended launch vehicle payload fairings from suborbital space.                       |   49   |    {}   |  0  |   0   | 2017 | 2024-04-20 19:36:33.932204 |\n",
       "| 2  |                           SpaceX begins routinely recovering fairings from many flights                           |                                        The experimental program became an operational program as, by late 2020, the company was routinely recovering fairings from many flights.                                        |   49   |    {}   |  0  |   0   | 2020 | 2024-04-20 19:36:33.932204 |\n",
       "| 3  | SpaceX successfully refurbishes and reflies previously flown fairings on the majority of their satellite launches |                                            By 2021, SpaceX were successfully refurbishing and reflying previously flown fairings on the majority of their satellite launches.                                           |   49   |    {}   |  0  |   0   | 2021 | 2024-04-20 19:36:33.932204 |\n",
       "| 4  |                                  SpaceX begins chartering Ms. Tree and Ms. Chief                                  |                 SpaceX chartered two former platform supply vessels, Ms. Tree and Ms. Chief, to use as experimental platforms for recovery of rocket fairings from Falcon 9 orbital launch trajectories.                |   49   |    {}   |  0  |   0   | 2018 | 2024-04-20 19:36:38.731961 |\n",
       "| 5  |                                      Ms. Tree successfully catches a fairing                                      |                                Ms. Tree, while still named Mr. Steven, successfully caught a fairing during Falcon Heavy launch 3. This was the first successful fairing catch by SpaceX.                               |   49   |    {}   |  25 |   5   | 2019 | 2024-04-20 19:36:38.731961 |\n",
       "| 6  |                                            Fairing recovery experiments                                           |                                                              SpaceX conducted fairing recovery experiments on a number of occasions in 2018 and early 2019.                                                             |   49   |    {}   |  0  |   0   | 2018 | 2024-04-20 19:36:46.600274 |\n",
       "| 7  |                                           First successful fairing catch                                          | Ms. Tree successfully caught a fairing during Falcon Heavy launch 3, which carried the DoD's STP-2 mission. This was the ship's first fairing recovery voyage after its renaming, change of ownership, and net upgrade. |   49   |    {}   |  25 |   6   | 2019 | 2024-04-20 19:36:46.600274 |\n",
       "| 8  |                                             Operational status reached                                            |                           The fairing recovery program reached operational status where fairings from most Falcon 9 satellite launches were recovered, either 'in the net' or from the water.                           |   49   |    {}   |  0  |   0   | 2020 | 2024-04-20 19:36:46.600274 |\n",
       "| 9  |                                           Final fairing caught in a net                                           |                                                                       The final fairing that was successfully caught in a net was in October 2020.                                                                      |   49   |    {}   |  0  |   10  | 2020 | 2024-04-20 19:36:46.600274 |\n",
       "| 10 |                                            Nets removed from fast ships                                           |                                         In early 2021, the nets were removed from the two fast ships and SpaceX ended the ship leases, with both ships returned to their owner.                                         |   49   |    {}   |  0  |   0   | 2021 | 2024-04-20 19:36:46.600274 |\n",
       "+----+-------------------------------------------------------------------------------------------------------------------+-------------------------------------------------------------------------------------------------------------------------------------------------------------------------------------------------------------------------+--------+---------+-----+-------+------+----------------------------+\n",
       "Truncated to displaylimit of 10."
      ]
     },
     "execution_count": 4,
     "metadata": {},
     "output_type": "execute_result"
    }
   ],
   "source": [
    "%%sql\n",
    "SELECT * FROM production.public.calendar_index\n",
    "LIMIT 10;"
   ]
  },
  {
   "cell_type": "code",
   "execution_count": 11,
   "metadata": {},
   "outputs": [
    {
     "data": {
      "text/html": [
       "<span style=\"None\">Running query in &#x27;duckdb&#x27;</span>"
      ],
      "text/plain": [
       "Running query in 'duckdb'"
      ]
     },
     "metadata": {},
     "output_type": "display_data"
    },
    {
     "data": {
      "text/html": [
       "<span style=\"None\">Running query in &#x27;duckdb&#x27;</span>"
      ],
      "text/plain": [
       "Running query in 'duckdb'"
      ]
     },
     "metadata": {},
     "output_type": "display_data"
    },
    {
     "data": {
      "text/html": [
       "<table>\n",
       "    <thead>\n",
       "        <tr>\n",
       "            <th>Count</th>\n",
       "        </tr>\n",
       "    </thead>\n",
       "    <tbody>\n",
       "        <tr>\n",
       "            <td>34134</td>\n",
       "        </tr>\n",
       "    </tbody>\n",
       "</table>"
      ],
      "text/plain": [
       "+-------+\n",
       "| Count |\n",
       "+-------+\n",
       "| 34134 |\n",
       "+-------+"
      ]
     },
     "execution_count": 11,
     "metadata": {},
     "output_type": "execute_result"
    }
   ],
   "source": [
    "%sql COPY production.public.spider_index TO '/workspace/worldcal/calendar_index/datasets/spider_index.csv' WITH (FORMAT CSV, HEADER);\n",
    "%sql COPY production.public.calendar_index TO '/workspace/worldcal/calendar_index/datasets/calendar_index.csv' WITH (FORMAT CSV, HEADER);"
   ]
  },
  {
   "cell_type": "code",
   "execution_count": 7,
   "metadata": {},
   "outputs": [],
   "source": [
    "import pandas as pd\n",
    "\n",
    "df = pd.read_csv('/workspace/worldcal/calendar_index/datasets/calendar_index.csv')"
   ]
  },
  {
   "cell_type": "code",
   "execution_count": null,
   "metadata": {},
   "outputs": [],
   "source": [
    "## New df without date_added\n",
    "df = df.drop(columns=['date_added'])\n",
    "df.head()"
   ]
  },
  {
   "cell_type": "code",
   "execution_count": 15,
   "metadata": {},
   "outputs": [],
   "source": [
    "df.to_csv('/workspace/worldcal/calendar_index/datasets/calendar_index.csv', index=False)"
   ]
  },
  {
   "cell_type": "code",
   "execution_count": 8,
   "metadata": {},
   "outputs": [],
   "source": [
    "import pandas_gbq\n",
    "\n",
    "# TODO: Set project_id to your Google Cloud Platform project ID.\n",
    "project_id = \"the-world-calendar\"\n",
    "\n",
    "# TODO: Set table_id to the full destination table ID (including the\n",
    "#       dataset ID).\n",
    "table_id = 'calendar_index.calendar_events'\n",
    "pandas_gbq.to_gbq(df, table_id, project_id=project_id)"
   ]
  }
 ],
 "metadata": {
  "kernelspec": {
   "display_name": "Python 3 (ipykernel)",
   "language": "python",
   "name": "python3"
  },
  "language_info": {
   "codemirror_mode": {
    "name": "ipython",
    "version": 3
   },
   "file_extension": ".py",
   "mimetype": "text/x-python",
   "name": "python",
   "nbconvert_exporter": "python",
   "pygments_lexer": "ipython3",
   "version": "3.10.4"
  }
 },
 "nbformat": 4,
 "nbformat_minor": 2
}
